{
  "nbformat": 4,
  "nbformat_minor": 0,
  "metadata": {
    "colab": {
      "provenance": []
    },
    "kernelspec": {
      "name": "python3",
      "display_name": "Python 3"
    },
    "language_info": {
      "name": "python"
    }
  },
  "cells": [
    {
      "cell_type": "code",
      "execution_count": null,
      "metadata": {
        "colab": {
          "base_uri": "https://localhost:8080/"
        },
        "id": "WNYfSzYyMFQ2",
        "outputId": "33ce0d60-c8cf-4c5f-e02b-661ebdf8012e"
      },
      "outputs": [
        {
          "output_type": "stream",
          "name": "stdout",
          "text": [
            "Imam Sanghaar Chandio 17 True\n",
            "<class 'str'>\n",
            "<class 'int'>\n",
            "<class 'bool'>\n"
          ]
        }
      ],
      "source": [
        "#  Q1: Variables\n",
        "# We will create variables now\n",
        "name = \"Imam Sanghaar Chandio\"  # This is the name variable\n",
        "age = 17                        # This is age variable\n",
        "is_student = True               # This is is_student variable\n",
        "print(name , age , is_student)  # This will print the all variables\n",
        "\n",
        "# Data Types\n",
        "# We will create data type for each variable\n",
        "name_type = type(name) # This will give the tyoe of name variable\n",
        "print(name_type)       # This will print the vraiable of name which will be 'str' or \"string\"\n",
        "\n",
        "age_type = type(age)   # This will give age_type of age variable\n",
        "print(age_type)        # This will print type of age which is 'int' or \"integar\"\n",
        "\n",
        "boolean_type = type(is_student) # This will give the type of boolean of is_student\n",
        "print(boolean_type)             # This will print the type of is_student whhic is 'bool' or \"boolean\""
      ]
    },
    {
      "cell_type": "code",
      "source": [],
      "metadata": {
        "id": "eI_tPDQu9vAI"
      },
      "execution_count": null,
      "outputs": []
    },
    {
      "cell_type": "code",
      "source": [
        "# # Q2: Arithmetic Operators\n",
        "# We will do these steps:\n",
        "\n",
        "print(\"Let x = 20 and y = 6\") # This will print the values of x and y\n",
        "# 1. Addition:\n",
        "print(\"Addition:\") # This will print the operation type\n",
        "print(\"x + y =\" , 20 + 6) # This will first add the x and y values and then print them as -> x + y = 26\n",
        "# 2. Subtraction:\n",
        "print(\"Subtraction:\") # This will print the operation type\n",
        "print(\"x - y =\" , 20 - 6) # This will first subtract the x and y values and then print them as -> x - y = 14\n",
        "# 3. Multiplication:\n",
        "print(\"Multiplication:\") # This will print the operation type\n",
        "print(\"x = y =\" , 20 * 6) # This will first multiply the x and y values and then print them as -> x * y = 120\n",
        "# 4. Division:\n",
        "print(\"Division:\") # This will print the operation type\n",
        "print(\"x / y =\" , 20 / 6) # This will first divide the x and y values and then print them as -> x / y = 3.3333333333333335\n",
        "# 6. Floor Division:\n",
        "print(\"Floor Division:\") # This will print the operation type\n",
        "print(\"x // y =\" , 20 // 6) # This will first floor divide the x and y values and then print them as -> x // y = 3\n",
        "# 5. Modulus:\n",
        "print(\"Modulus:\")   # This will print the operation type\n",
        "print(\"x % y =\" , 20 % 6)   # This will first do the modulus operation of the x and y values and then print them as -> x % y = 2\n",
        "# 7. Exponention:\n",
        "print(\"Exponention:\") # This will print the operation type\n",
        "print(\"x ** y =\" , 20 ** 6) # This will first perform exponention operation to the x and y values and then print them as -> x ** y = 3"
      ],
      "metadata": {
        "colab": {
          "base_uri": "https://localhost:8080/"
        },
        "id": "xZq0IrfWNoiv",
        "outputId": "484e9201-8482-44d5-ed9c-c1e0e833d1e3"
      },
      "execution_count": null,
      "outputs": [
        {
          "output_type": "stream",
          "name": "stdout",
          "text": [
            "Let x = 20 and y = 6\n",
            "Addition:\n",
            "x + y = 26\n",
            "Subtraction:\n",
            "x - y = 14\n",
            "Multiplication:\n",
            "x = y = 120\n",
            "Division:\n",
            "x / y = 3.3333333333333335\n",
            "Floor Division:\n",
            "x // y = 3\n",
            "Modulus:\n",
            "x % y = 2\n",
            "Exponention:\n",
            "x ** y = 64000000\n"
          ]
        }
      ]
    },
    {
      "cell_type": "code",
      "source": [
        "# Q3: Assignment Operators\n",
        "num = 10  # This is the initial value of num which will be used throughout the process\n",
        "print(\"Initial value:\", num)\n",
        "\n",
        "# Step 1: Add 5\n",
        "num += 5\n",
        "print(\"After += 5:\", num)  # Output: 15\n",
        "\n",
        "# Step 2: Multiply by 2\n",
        "num *= 2\n",
        "print(\"After *= 2:\", num)  # Output: 30\n",
        "\n",
        "# Step 3: Subtract 4\n",
        "num -= 4\n",
        "print(\"After -= 4:\", num)  # Output: 26\n",
        "# step 4: Final\n",
        "print(\"Final Value:\", num)"
      ],
      "metadata": {
        "colab": {
          "base_uri": "https://localhost:8080/"
        },
        "id": "nW-mcgt0V5E1",
        "outputId": "77931d21-65c4-40e3-b802-f3abbcf34aa1"
      },
      "execution_count": null,
      "outputs": [
        {
          "output_type": "stream",
          "name": "stdout",
          "text": [
            "Initial value: 10\n",
            "After += 5: 15\n",
            "After *= 2: 30\n",
            "After -= 4: 26\n",
            "Final Value: 26\n"
          ]
        }
      ]
    },
    {
      "cell_type": "code",
      "source": [
        "# Q4: Comparison Operators\n",
        "a = 15 # This is the value of a\n",
        "b = 12 # This is the value of b\n",
        "\n",
        "print( a > b) # This will tell that if the value of a is greater than b, then it will print \"True\" else \"False\" -> True\n",
        "print( a < b) # This will tell that if the value of a is less than b, then it will print \"True\" else \"False\" -> False\n",
        "print( a == b) # This will tell that if the value of a is equal to b, then it will print \"True\" else \"False\" -> False\n",
        "print( a != b) # This will tell that if the value of a is not equal to b, then it will print \"True\" else \"False\" -> True\n",
        "print( a >= b) # This will tell that if the value of a is greater than equal to b, then it will print \"True\" else \"False\" -> True\n",
        "print( a <= b) # This will tell that if the value of a is less than equal to b, then it will print \"True\" else \"False\" -> False"
      ],
      "metadata": {
        "colab": {
          "base_uri": "https://localhost:8080/"
        },
        "id": "CtPFOI-8dSpO",
        "outputId": "4788c610-4f31-46a8-a3ef-ceccb50cb524"
      },
      "execution_count": null,
      "outputs": [
        {
          "output_type": "stream",
          "name": "stdout",
          "text": [
            "True\n",
            "False\n",
            "False\n",
            "True\n",
            "True\n",
            "False\n"
          ]
        }
      ]
    },
    {
      "cell_type": "code",
      "source": [
        "# Q5: Logical Operators\n",
        "p = True\n",
        "q = False\n",
        "# We will check and print the result of following:\n",
        "print(p and q) # The and operator returns True only if both operands are True. Since q is False, the result is False.\n",
        "print(p or q) # The or operatpr return True if atleast one operand is True. Since P is True, the result is True.\n",
        "print(not p) # The not operator inverts the Boolean value. Since p is True, not p becomes False.\n",
        "print(not q) # Since q is False, not q becomes True"
      ],
      "metadata": {
        "colab": {
          "base_uri": "https://localhost:8080/"
        },
        "id": "qjFbid8Xfbrv",
        "outputId": "0191f6ab-b8ce-41db-f27f-c3aba3eff55c"
      },
      "execution_count": null,
      "outputs": [
        {
          "output_type": "stream",
          "name": "stdout",
          "text": [
            "False\n",
            "True\n",
            "False\n",
            "True\n"
          ]
        }
      ]
    },
    {
      "cell_type": "code",
      "source": [
        "# Q6: Real-Life Example\n",
        "# Part 1:\n",
        "X = 80\n",
        "total = X * 7\n",
        "print(\"The price of one notebook is 80 rupees so,\")\n",
        "print(\"if each notebook costs 80 rupees then:\")\n",
        "print(\"The total price of 7 notebooks will be:\", (total))\n",
        "print(\"If you have 600 rupees then, \")\n",
        "\n",
        "# Part 2:\n",
        "available = 600\n",
        "affordable = available >= total\n",
        "\n",
        "# Part 3:\n",
        "if affordable:\n",
        "  print(\"you have enough money to buy 7 notebooks\")\n",
        "else:\n",
        "  print(\"you don't have enough money to buy 7 notebooks\")"
      ],
      "metadata": {
        "colab": {
          "base_uri": "https://localhost:8080/"
        },
        "id": "RCa25XZXhBGi",
        "outputId": "e4561762-07e6-4139-cf98-060998078058"
      },
      "execution_count": null,
      "outputs": [
        {
          "output_type": "stream",
          "name": "stdout",
          "text": [
            "The price of one notebook is 80 rupees so,\n",
            "if each notebook costs 80 rupees then:\n",
            "The total price of 7 notebooks will be: 560\n",
            "If you have 600 rupees then, \n",
            "you have enough money to buy 7 notebooks\n"
          ]
        }
      ]
    },
    {
      "cell_type": "code",
      "source": [
        "# Q7: Bonus\n",
        "# Take input from the user\n",
        "num1 = int(input(\"Enter the first number: \")) # input() collects user input as a string, and int() converts it to an integer.\n",
        "num2 = int(input(\"Enter the second number: \")) # input() collects user input as a string, and int() converts it to an integer.\n",
        "\n",
        "# Print their sum\n",
        "sum_result = num1 + num2 # The sum is calculated and printed.\n",
        "print(\"The sum of the two numbers is:\", sum_result)\n",
        "\n",
        "# Check if the first number is greater than the second\n",
        "if num1 > num2: # A comparison using > checks which number is larger and prints a clear message.\n",
        "    print(\"The first number is greater than the second number.\")\n",
        "else:\n",
        "    print(\"The first number is not greater than the second number.\")\n",
        "\n"
      ],
      "metadata": {
        "colab": {
          "base_uri": "https://localhost:8080/"
        },
        "id": "6zco9oqbllT-",
        "outputId": "a57e2cdc-bbb6-42a1-9d90-f83242ad0a79"
      },
      "execution_count": null,
      "outputs": [
        {
          "output_type": "stream",
          "name": "stdout",
          "text": [
            "Enter the first number: 5\n",
            "Enter the second number: 8\n",
            "The sum of the two numbers is: 13\n",
            "The first number is not greater than the second number.\n"
          ]
        }
      ]
    }
  ]
}